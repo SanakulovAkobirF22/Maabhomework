{
 "cells": [
  {
   "cell_type": "markdown",
   "id": "002e5f56",
   "metadata": {},
   "source": [
    "A year is a leap year if:\n",
    "- It is divisible by 4, and\n",
    "- It is NOT divisible by 100, unless it is also divisible by 400.\n",
    "\n",
    "Parameters:\n",
    "year (int): The year to be checked.\n",
    "\n",
    "Returns:\n",
    "bool: True if the year is a leap year, False otherwise.\n",
    "\"\"\"\n",
    "if not isinstance(year, int):\n",
    "    raise ValueError(\"Year must be an integer.\")\n",
    "\n",
    "return (year % 4 == 0 and year % 100 != 0) or (year % 400 == 0)"
   ]
  },
  {
   "cell_type": "code",
   "execution_count": 7,
   "id": "dcdfb44f",
   "metadata": {},
   "outputs": [
    {
     "name": "stdout",
     "output_type": "stream",
     "text": [
      "Otherwise\n"
     ]
    }
   ],
   "source": [
    "n = int(input())\n",
    "if (n % 4 == 0 and n % 100 != 0) or (n % 400 == 0):\n",
    "    print('Leap year')\n",
    "else:\n",
    "    print('Otherwise')    \n"
   ]
  },
  {
   "cell_type": "markdown",
   "id": "7b2038ca",
   "metadata": {},
   "source": [
    "Given an integer, n, perform the following conditional actions:\n",
    "\n",
    "If n is odd, print Weird\n",
    "If n is even and in the inclusive range of 2 to 5, print Not Weird\n",
    "If n is even and in the inclusive range of 6 to 20, print Weird\n",
    "If n is even and greater than 20, print Not Weird"
   ]
  },
  {
   "cell_type": "code",
   "execution_count": null,
   "id": "799b6529",
   "metadata": {},
   "outputs": [
    {
     "name": "stdout",
     "output_type": "stream",
     "text": [
      "Weird\n"
     ]
    }
   ],
   "source": [
    "n = int(input())\n",
    "if n % 2 == 1:\n",
    "    print('Weird')\n",
    "elif n % 2 == 0 and n >= 2 and n < 5:\n",
    "    print(\"Not Weird\")\n",
    "elif n % 2 == 0 and n >= 6 and n < 20:\n",
    "    print('Weird')\n",
    "elif n % 2 == 0 and n > 20:\n",
    "    print('Not Weird')"
   ]
  },
  {
   "cell_type": "markdown",
   "id": "c6265575",
   "metadata": {},
   "source": [
    "Given two integer numbers a and b. Find even numbers between this numbers. a and b are inclusive. Don't use loop.\n",
    "Give two solutions.\n",
    "\n",
    "Solution 1 with if-else statement.\n",
    "\n",
    "Solution 2 without if-else statement."
   ]
  },
  {
   "cell_type": "code",
   "execution_count": null,
   "id": "cc915b13",
   "metadata": {},
   "outputs": [
    {
     "name": "stdout",
     "output_type": "stream",
     "text": [
      "12 even\n"
     ]
    }
   ],
   "source": [
    "a = int(input())\n",
    "\n",
    "b = int(input())\n",
    "# with if else\n",
    "\n",
    "if a % 2 == 0 and b % 2 == 1:\n",
    "    print(f'{a} even')\n",
    "elif b % 2 == 0 and a % 2 == 1:\n",
    "    print(f'{b} even')\n",
    "elif a % 2 == 0 and b % 2 == 0:\n",
    "    print(f'{a} and {b}  both even')\n",
    "elif a % 2 == 1 and b % 2 == 1:\n",
    "    print('{a} and {b} both odd')"
   ]
  },
  {
   "cell_type": "code",
   "execution_count": null,
   "id": "32789ddc",
   "metadata": {},
   "outputs": [],
   "source": [
    "a = int(input())\n",
    "\n",
    "b = int(input())\n",
    "# without if else\n",
    "if a % 2 == 0 and b % 2 == 1:\n",
    "    print(f'{a} even')\n",
    "if b % 2 == 0 and a % 2 == 1:\n",
    "    print(f'{b} even')\n",
    "if a % 2 == 0 and b % 2 == 0:\n",
    "    print(f'{a} and {b}  both even')\n",
    "if a % 2 == 1 and b % 2 == 1:\n",
    "    print('{a} and {b} both odd')"
   ]
  }
 ],
 "metadata": {
  "kernelspec": {
   "display_name": ".venv",
   "language": "python",
   "name": "python3"
  },
  "language_info": {
   "codemirror_mode": {
    "name": "ipython",
    "version": 3
   },
   "file_extension": ".py",
   "mimetype": "text/x-python",
   "name": "python",
   "nbconvert_exporter": "python",
   "pygments_lexer": "ipython3",
   "version": "3.12.4"
  }
 },
 "nbformat": 4,
 "nbformat_minor": 5
}
