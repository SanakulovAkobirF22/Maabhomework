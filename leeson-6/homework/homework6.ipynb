{
 "cells": [
  {
   "cell_type": "code",
   "execution_count": 3,
   "id": "048cf5b0",
   "metadata": {},
   "outputs": [
    {
     "name": "stdout",
     "output_type": "stream",
     "text": [
      "Modified string: hel_lo\n"
     ]
    }
   ],
   "source": [
    "txt = input('Enter a string: ')\n",
    "vowels = 'aeiouAEIOU'\n",
    "i = 3\n",
    "\n",
    "while i < len(txt):\n",
    "    if txt[i - 1] in vowels or (i < len(txt) and txt[i] == '_'):\n",
    "        i += 1\n",
    "        continue \n",
    "    txt = txt[:i] + '_' + txt[i:]\n",
    "    i += 4\n",
    "    \n",
    "\n",
    "if txt.endswith('_'):\n",
    "    txt = txt[:-1] \n",
    "\n",
    "print(\"Modified string:\", txt) "
   ]
  },
  {
   "cell_type": "code",
   "execution_count": 8,
   "id": "7d52c3b8",
   "metadata": {},
   "outputs": [],
   "source": [
    "n = int(input())\n",
    "\n",
    "for i in range(n):\n",
    "    if n > 0:\n",
    "      print(i**2)\n",
    "    else:\n",
    "       print()"
   ]
  },
  {
   "cell_type": "code",
   "execution_count": 9,
   "id": "f0249bc2",
   "metadata": {},
   "outputs": [
    {
     "name": "stdout",
     "output_type": "stream",
     "text": [
      "1\n",
      "2\n",
      "3\n",
      "4\n",
      "5\n",
      "6\n",
      "7\n",
      "8\n",
      "9\n",
      "10\n"
     ]
    }
   ],
   "source": [
    "for i in range (1, 11):\n",
    "    print(i)"
   ]
  },
  {
   "cell_type": "code",
   "execution_count": 25,
   "id": "5a1c9845",
   "metadata": {},
   "outputs": [
    {
     "name": "stdout",
     "output_type": "stream",
     "text": [
      "1 \n",
      "1 2 \n",
      "1 2 3 \n",
      "1 2 3 4 \n",
      "1 2 3 4 5 \n"
     ]
    }
   ],
   "source": [
    "for i in range(1, 6):\n",
    "    for j in range(1, i + 1):\n",
    "        print(j, end=' ')\n",
    "    print()"
   ]
  },
  {
   "cell_type": "code",
   "execution_count": 30,
   "id": "94feca90",
   "metadata": {},
   "outputs": [
    {
     "name": "stdout",
     "output_type": "stream",
     "text": [
      "10\n"
     ]
    }
   ],
   "source": [
    "n = int(input())\n",
    "sum = 0\n",
    "for i in range(1, n + 1):\n",
    "    sum += i\n",
    "print(sum)\n"
   ]
  },
  {
   "cell_type": "code",
   "execution_count": 31,
   "id": "5257073d",
   "metadata": {},
   "outputs": [
    {
     "name": "stdout",
     "output_type": "stream",
     "text": [
      "2\n",
      "4\n",
      "6\n",
      "8\n",
      "10\n",
      "12\n",
      "14\n",
      "16\n",
      "18\n",
      "20\n"
     ]
    }
   ],
   "source": [
    "n = int(input())\n",
    "for i in range(1, 11):\n",
    "    print(n*i)"
   ]
  },
  {
   "cell_type": "code",
   "execution_count": 32,
   "id": "0eacbf3a",
   "metadata": {},
   "outputs": [
    {
     "name": "stdout",
     "output_type": "stream",
     "text": [
      "75\n",
      "150\n",
      "145\n"
     ]
    }
   ],
   "source": [
    "numbers = [12, 75, 150, 180, 145, 525, 50]\n",
    "\n",
    "for num in numbers:\n",
    "    if num > 70 and num < 500 and  num != 180:\n",
    "        print(num)"
   ]
  },
  {
   "cell_type": "code",
   "execution_count": 39,
   "id": "a051e97d",
   "metadata": {},
   "outputs": [
    {
     "name": "stdout",
     "output_type": "stream",
     "text": [
      "5\n"
     ]
    }
   ],
   "source": [
    "a = 75869\n",
    "b = str(a)\n",
    "print(len(b))"
   ]
  },
  {
   "cell_type": "code",
   "execution_count": null,
   "id": "7507c71f",
   "metadata": {},
   "outputs": [
    {
     "name": "stdout",
     "output_type": "stream",
     "text": [
      "5 4 3 2 1 \n",
      "4 3 2 1 \n",
      "3 2 1 \n",
      "2 1 \n",
      "1 \n"
     ]
    }
   ],
   "source": [
    "for i in range(5, 0, -1):   # from 5 down to 1\n",
    "    for j in range(i, 0, -1):  # from i down to 1\n",
    "        print(j, end=' ')\n",
    "\n",
    "    print()"
   ]
  },
  {
   "cell_type": "code",
   "execution_count": 44,
   "id": "c869cb6b",
   "metadata": {},
   "outputs": [
    {
     "name": "stdout",
     "output_type": "stream",
     "text": [
      "50\n",
      "40\n",
      "30\n",
      "20\n",
      "10\n"
     ]
    }
   ],
   "source": [
    "list1 = [10, 20, 30, 40, 50]\n",
    "list2 = list1[::-1]\n",
    "for i in list2:\n",
    "    print(i)\n",
    "\n",
    "\n"
   ]
  },
  {
   "cell_type": "code",
   "execution_count": 46,
   "id": "3fd47fcf",
   "metadata": {},
   "outputs": [
    {
     "name": "stdout",
     "output_type": "stream",
     "text": [
      "-10\n",
      "-9\n",
      "-8\n",
      "-7\n",
      "-6\n",
      "-5\n",
      "-4\n",
      "-3\n",
      "-2\n",
      "-1\n"
     ]
    }
   ],
   "source": [
    "for i in range(-10, 0):\n",
    "    print(i)"
   ]
  },
  {
   "cell_type": "code",
   "execution_count": 47,
   "id": "daaa527f",
   "metadata": {},
   "outputs": [
    {
     "name": "stdout",
     "output_type": "stream",
     "text": [
      "0\n",
      "1\n",
      "2\n",
      "3\n",
      "4\n",
      "Done!\n"
     ]
    }
   ],
   "source": [
    "for i in range(5):\n",
    "    print(i)\n",
    "print('Done!')"
   ]
  },
  {
   "cell_type": "code",
   "execution_count": 62,
   "id": "ab987b07",
   "metadata": {},
   "outputs": [
    {
     "name": "stdout",
     "output_type": "stream",
     "text": [
      "29\n",
      "31\n",
      "37\n",
      "41\n",
      "43\n",
      "47\n"
     ]
    }
   ],
   "source": [
    "\n",
    "\n",
    "for num in range(25, 51):\n",
    "    if num > 1:\n",
    "        for j in range(2, int(num**0.5) + 1):\n",
    "            if num % j == 0:\n",
    "                break\n",
    "        else:\n",
    "              print(num)\n",
    "      \n",
    "      \n",
    "    "
   ]
  },
  {
   "cell_type": "code",
   "execution_count": 67,
   "id": "50706bd0",
   "metadata": {},
   "outputs": [
    {
     "name": "stdout",
     "output_type": "stream",
     "text": [
      "Fibonacci sequence:\n",
      "0 1 1 2 3 5 8 13 21 34 "
     ]
    }
   ],
   "source": [
    "a, b = 0, 1\n",
    "\n",
    "print(\"Fibonacci sequence:\")\n",
    "\n",
    "for _ in range(10):\n",
    "    print(a, end=' ')\n",
    "    a, b = b, a + b"
   ]
  },
  {
   "cell_type": "code",
   "execution_count": 73,
   "id": "c6a86b69",
   "metadata": {},
   "outputs": [
    {
     "name": "stdout",
     "output_type": "stream",
     "text": [
      "2432902008176640000\n"
     ]
    }
   ],
   "source": [
    "n = int(input())\n",
    "fc = 1\n",
    "for i in range(1, n+1):\n",
    "    fc *= i\n",
    "print(fc)"
   ]
  },
  {
   "cell_type": "code",
   "execution_count": 76,
   "id": "7bac9113",
   "metadata": {},
   "outputs": [
    {
     "name": "stdout",
     "output_type": "stream",
     "text": [
      "['1', '2', '3', '4', '5', '6']\n"
     ]
    }
   ],
   "source": [
    "from collections import Counter\n",
    "\n",
    "list1 = input()\n",
    "\n",
    "list2 = input()\n",
    "\n",
    "c1 = Counter(list1)\n",
    "c2 = Counter(list2)\n",
    "\n",
    "diff1 = c1 - c2\n",
    "diff2 = c2 - c1\n",
    "\n",
    "result = list(diff1.elements()) + list(diff2.elements())\n",
    "\n",
    "print(result)"
   ]
  }
 ],
 "metadata": {
  "kernelspec": {
   "display_name": "Python 3",
   "language": "python",
   "name": "python3"
  },
  "language_info": {
   "codemirror_mode": {
    "name": "ipython",
    "version": 3
   },
   "file_extension": ".py",
   "mimetype": "text/x-python",
   "name": "python",
   "nbconvert_exporter": "python",
   "pygments_lexer": "ipython3",
   "version": "3.12.4"
  }
 },
 "nbformat": 4,
 "nbformat_minor": 5
}
