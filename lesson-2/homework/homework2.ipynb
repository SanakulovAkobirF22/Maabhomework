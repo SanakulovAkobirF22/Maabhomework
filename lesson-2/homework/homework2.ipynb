{
 "cells": [
  {
   "cell_type": "markdown",
   "id": "d76743b8",
   "metadata": {},
   "source": [
    "Age Calculator\n",
    "Write a Python program to ask for a user's name and year of birth, then calculate and display their age."
   ]
  },
  {
   "cell_type": "code",
   "execution_count": 2,
   "id": "482edd1e",
   "metadata": {},
   "outputs": [
    {
     "name": "stdout",
     "output_type": "stream",
     "text": [
      "Your name is Abu, your year of bith is 2000, your age 25\n"
     ]
    }
   ],
   "source": [
    "name = input('What is your name: ')\n",
    "year_of_birth = int(input('When were you born: '))\n",
    "age = 2025 - year_of_birth\n",
    "\n",
    "print('Your name is {}, your year of bith is {}, your age {}'.format(name, year_of_birth, age))"
   ]
  },
  {
   "cell_type": "code",
   "execution_count": 49,
   "id": "fd07aeae",
   "metadata": {},
   "outputs": [
    {
     "name": "stdout",
     "output_type": "stream",
     "text": [
      "Malibu\n",
      "Lasetti\n"
     ]
    }
   ],
   "source": [
    "txt = 'LMaasleitbtui'\n",
    "print(txt[1]+txt[2]+txt[5]+txt[7]+txt[9]+txt[11])\n",
    "\n",
    "print(txt[0]+txt[2]+txt[4]+txt[6]+txt[8]+txt[10]+txt[12])"
   ]
  },
  {
   "cell_type": "code",
   "execution_count": 52,
   "id": "3d031f01",
   "metadata": {},
   "outputs": [
    {
     "name": "stdout",
     "output_type": "stream",
     "text": [
      "Matiz\n",
      "Damas\n"
     ]
    }
   ],
   "source": [
    "txt = 'MsaatmiazD' \n",
    "print(txt[0]+txt[2]+txt[4]+txt[6]+txt[8])\n",
    "print(txt[-1]+txt[-3]+txt[-5]+txt[3]+txt[1])"
   ]
  },
  {
   "cell_type": "code",
   "execution_count": 10,
   "id": "e44cc9e5",
   "metadata": {},
   "outputs": [
    {
     "name": "stdout",
     "output_type": "stream",
     "text": [
      " London\n"
     ]
    }
   ],
   "source": [
    "txt = \"I'am John. I am from London\"\n",
    "\n",
    "txt.split('from')[1]\n",
    "\n",
    "print(txt.split('from')[1])\n"
   ]
  },
  {
   "cell_type": "code",
   "execution_count": 12,
   "id": "cbed63db",
   "metadata": {},
   "outputs": [
    {
     "name": "stdout",
     "output_type": "stream",
     "text": [
      "laeR\n"
     ]
    }
   ],
   "source": [
    "reverse_string = input()\n",
    "print(reverse_string[::-1])"
   ]
  },
  {
   "cell_type": "code",
   "execution_count": 13,
   "id": "df6e5181",
   "metadata": {},
   "outputs": [
    {
     "name": "stdout",
     "output_type": "stream",
     "text": [
      "Number of vowels:  2\n"
     ]
    }
   ],
   "source": [
    "text = input('Enter a string: ')\n",
    "vowels = 'aueioAUEIO'\n",
    "count = 0\n",
    "\n",
    "for char in text:\n",
    "    if char in vowels:\n",
    "     count += 1\n",
    "\n",
    "print('Number of vowels: ', count)"
   ]
  },
  {
   "cell_type": "code",
   "execution_count": null,
   "id": "65edd63c",
   "metadata": {},
   "outputs": [
    {
     "name": "stdout",
     "output_type": "stream",
     "text": [
      "Max value: 10\n"
     ]
    }
   ],
   "source": [
    "num = input('Enter nums separated with spaces: ')\n",
    "num_list = [int(n) for n in num.split()]\n",
    "\n",
    "print('Max value:', max(num_list))\n"
   ]
  },
  {
   "cell_type": "markdown",
   "id": "56d4edca",
   "metadata": {},
   "source": [
    "Check Palindrome\n",
    "Write a Python program that checks if a given word is a palindrome (reads the same forward and backward)."
   ]
  },
  {
   "cell_type": "code",
   "execution_count": 23,
   "id": "649b218b",
   "metadata": {},
   "outputs": [
    {
     "name": "stdout",
     "output_type": "stream",
     "text": [
      "Palindrome\n"
     ]
    }
   ],
   "source": [
    "words = input()\n",
    "if  words == words[::-1]:\n",
    "    print('Palindrome')\n",
    "else:\n",
    "    print('No palindrome')\n",
    "\n"
   ]
  },
  {
   "cell_type": "code",
   "execution_count": 18,
   "id": "c4c710fd",
   "metadata": {},
   "outputs": [
    {
     "name": "stdout",
     "output_type": "stream",
     "text": [
      "maam\n"
     ]
    }
   ],
   "source": [
    "a = 'maam'\n",
    "print(a[::-1])"
   ]
  },
  {
   "cell_type": "markdown",
   "id": "1af5f5a1",
   "metadata": {},
   "source": [
    "Extract Email Domain\n",
    "Write a Python program that extracts and prints the domain from an email address provided by the user."
   ]
  },
  {
   "cell_type": "code",
   "execution_count": 24,
   "id": "f6507d29",
   "metadata": {},
   "outputs": [
    {
     "name": "stdout",
     "output_type": "stream",
     "text": [
      "gamil.com\n"
     ]
    }
   ],
   "source": [
    "domain = input()\n",
    "print(domain.split('@')[1])"
   ]
  },
  {
   "cell_type": "code",
   "execution_count": 29,
   "id": "247d841f",
   "metadata": {},
   "outputs": [
    {
     "name": "stdout",
     "output_type": "stream",
     "text": [
      "Generated password: j/bNfIbYK(\n"
     ]
    }
   ],
   "source": [
    "import random\n",
    "import string\n",
    "\n",
    "lenght = int(input('Enter password lenght: '))\n",
    "\n",
    "all_chairs = string.ascii_letters + string.digits + string.punctuation\n",
    "\n",
    "password = ''.join(random.choices(all_chairs, k = lenght))\n",
    "\n",
    "print('Generated password:', password)"
   ]
  }
 ],
 "metadata": {
  "kernelspec": {
   "display_name": ".venv",
   "language": "python",
   "name": "python3"
  },
  "language_info": {
   "codemirror_mode": {
    "name": "ipython",
    "version": 3
   },
   "file_extension": ".py",
   "mimetype": "text/x-python",
   "name": "python",
   "nbconvert_exporter": "python",
   "pygments_lexer": "ipython3",
   "version": "3.12.4"
  }
 },
 "nbformat": 4,
 "nbformat_minor": 5
}
