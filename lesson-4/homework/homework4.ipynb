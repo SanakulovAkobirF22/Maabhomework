{
 "cells": [
  {
   "cell_type": "markdown",
   "id": "a89b6f56",
   "metadata": {},
   "source": [
    "Sort a Dictionary by Value\n",
    "Write a Python script to sort (ascending and descending) a dictionary by value.\n",
    "\n",
    "2. Add a Key to a Dictionary\n",
    "Write a Python script to add a key to a dictionary.\n",
    "\n",
    "Sample Dictionary:\n",
    "\n",
    "{0: 10, 1: 20}\n",
    "Expected Result:\n",
    "\n",
    "{0: 10, 1: 20, 2: 30}\n",
    "3. Concatenate Multiple Dictionaries\n",
    "Write a Python script to concatenate the following dictionaries to create a new one.\n",
    "\n",
    "Sample Dictionaries:\n",
    "\n",
    "dic1 = {1: 10, 2: 20}\n",
    "dic2 = {3: 30, 4: 40}\n",
    "dic3 = {5: 50, 6: 60}\n",
    "Expected Result:\n",
    "\n",
    "{1: 10, 2: 20, 3: 30, 4: 40, 5: 50, 6: 60}\n",
    "4. Generate a Dictionary with Squares\n",
    "Write a Python script to generate and print a dictionary that contains a number (between 1 and n) in the form (x, x*x).\n",
    "\n",
    "Sample Dictionary (n = 5):\n",
    "\n",
    "{1: 1, 2: 4, 3: 9, 4: 16, 5: 25}\n",
    "5. Dictionary of Squares (1 to 15)\n",
    "Write a Python script to print a dictionary where the keys are numbers between 1 and 15 (both included) and the values are the square of the keys.\n",
    "\n",
    "Expected Output:\n",
    "\n",
    "{1: 1, 2: 4, 3: 9, 4: 16, 5: 25, 6: 36, 7: 49, 8: 64, 9: 81, 10: 100, 11: 121, 12: 144, 13: 169, 14: 196, 15: 225}\n",
    "Set Exercises\n",
    "1. Create a Set\n",
    "Write a Python program to create a set.\n",
    "\n",
    "2. Iterate Over a Set\n",
    "Write a Python program to iterate over sets.\n",
    "\n",
    "3. Add Member(s) to a Set\n",
    "Write a Python program to add member(s) to a set.\n",
    "\n",
    "4. Remove Item(s) from a Set\n",
    "Write a Python program to remove item(s) from a given set.\n",
    "\n",
    "5. Remove an Item if Present in the Set\n",
    "Write a Python program to remove an item from a set if it is present in the set."
   ]
  },
  {
   "cell_type": "code",
   "execution_count": null,
   "id": "e0555077",
   "metadata": {},
   "outputs": [
    {
     "data": {
      "text/plain": [
       "['age', 'city', 'name', 'year_of_born']"
      ]
     },
     "execution_count": 4,
     "metadata": {},
     "output_type": "execute_result"
    }
   ],
   "source": [
    "my_dict = {'name':'John', 'age': 25, 'city':'Tashkent', 'year_of_born':2000}\n",
    "\n",
    "my_dict_desc = sorted(my_dict, reverse=True)\n",
    "my_dict_desc\n",
    "\n",
    "my_dict_acs = sorted(my_dict, reverse=False)\n",
    "\n",
    "my_dict_acs\n",
    "\n"
   ]
  },
  {
   "cell_type": "code",
   "execution_count": null,
   "id": "e535e6df",
   "metadata": {},
   "outputs": [
    {
     "data": {
      "text/plain": [
       "[3000, 2000, 1500, 1000, 800]"
      ]
     },
     "execution_count": 17,
     "metadata": {},
     "output_type": "execute_result"
    }
   ],
   "source": [
    "my_cost = {'apple': 1500, 'banana':2000, 'apelsin':1000, 'apricot':800, 'Orange': 3000}\n",
    "my_values = list(my_cost.values())\n",
    "# we want to sort by descending\n",
    "my_values.sort(reverse=True)\n",
    "my_values\n",
    "\n"
   ]
  },
  {
   "cell_type": "code",
   "execution_count": null,
   "id": "d8c7e2b9",
   "metadata": {},
   "outputs": [
    {
     "data": {
      "text/plain": [
       "[800, 1000, 1500, 2000, 3000]"
      ]
     },
     "execution_count": 18,
     "metadata": {},
     "output_type": "execute_result"
    }
   ],
   "source": [
    "my_values.sort(reverse=False)\n",
    "# if want to sort by ascending\n",
    "my_values"
   ]
  },
  {
   "cell_type": "code",
   "execution_count": null,
   "id": "79bcc0b9",
   "metadata": {},
   "outputs": [
    {
     "name": "stdout",
     "output_type": "stream",
     "text": [
      "{0: 10, 1: 20, 2: 30}\n"
     ]
    }
   ],
   "source": [
    "you_dict = {0:10, 1:20}\n",
    "# we want to add items to dictionary\n",
    "you_dict[2] = 30\n",
    "\n",
    "print(you_dict)"
   ]
  },
  {
   "cell_type": "code",
   "execution_count": null,
   "id": "1a1ae750",
   "metadata": {},
   "outputs": [
    {
     "data": {
      "text/plain": [
       "{1: 10, 2: 20, 3: 30, 4: 40, 5: 50, 6: 60}"
      ]
     },
     "execution_count": 24,
     "metadata": {},
     "output_type": "execute_result"
    }
   ],
   "source": [
    "dic1 = {1: 10, 2: 20}\n",
    "dic2 = {3: 30, 4: 40}\n",
    "dic3 = {5: 50, 6: 60}\n",
    "# we concanate dictionary\n",
    "dic4 = (dic1) | (dic2) | (dic3) \n",
    "dic4"
   ]
  },
  {
   "cell_type": "code",
   "execution_count": 40,
   "id": "6cf25ee7",
   "metadata": {},
   "outputs": [
    {
     "data": {
      "text/plain": [
       "{1: 1, 2: 4, 3: 9, 4: 16, 5: 25}"
      ]
     },
     "execution_count": 40,
     "metadata": {},
     "output_type": "execute_result"
    }
   ],
   "source": [
    "n = int(input())\n",
    "squares_dict = {}\n",
    "\n",
    "for i in range(1, n+1):\n",
    "    squares_dict[i] = i*i\n",
    "\n",
    "squares_dict\n",
    "\n",
    "   \n",
    "\n",
    "\n"
   ]
  },
  {
   "cell_type": "code",
   "execution_count": 42,
   "id": "f741ddbc",
   "metadata": {},
   "outputs": [
    {
     "data": {
      "text/plain": [
       "{1: 1,\n",
       " 2: 4,\n",
       " 3: 9,\n",
       " 4: 16,\n",
       " 5: 25,\n",
       " 6: 36,\n",
       " 7: 49,\n",
       " 8: 64,\n",
       " 9: 81,\n",
       " 10: 100,\n",
       " 11: 121,\n",
       " 12: 144,\n",
       " 13: 169,\n",
       " 14: 196,\n",
       " 15: 225}"
      ]
     },
     "execution_count": 42,
     "metadata": {},
     "output_type": "execute_result"
    }
   ],
   "source": [
    "squares_dict_to_15 = {}\n",
    "\n",
    "for i in range(1, 16):\n",
    "    squares_dict_to_15[i] = i*i\n",
    "\n",
    "squares_dict_to_15\n"
   ]
  },
  {
   "cell_type": "code",
   "execution_count": 43,
   "id": "1d51ceb4",
   "metadata": {},
   "outputs": [
    {
     "data": {
      "text/plain": [
       "{10, 20, 30, 40, 50}"
      ]
     },
     "execution_count": 43,
     "metadata": {},
     "output_type": "execute_result"
    }
   ],
   "source": [
    "my_list = [10,  20, 30, 20, 30, 40, 50]\n",
    "\n",
    "my_set = set(my_list)\n",
    "\n",
    "my_set"
   ]
  },
  {
   "cell_type": "code",
   "execution_count": 44,
   "id": "eb65b3bf",
   "metadata": {},
   "outputs": [
    {
     "name": "stdout",
     "output_type": "stream",
     "text": [
      "40\n",
      "10\n",
      "50\n",
      "20\n",
      "30\n"
     ]
    }
   ],
   "source": [
    "for i in my_set:\n",
    "    print(i)\n"
   ]
  },
  {
   "cell_type": "code",
   "execution_count": null,
   "id": "a69c63fe",
   "metadata": {},
   "outputs": [
    {
     "data": {
      "text/plain": [
       "{10, 20, 30, 40, 50, 100}"
      ]
     },
     "execution_count": 47,
     "metadata": {},
     "output_type": "execute_result"
    }
   ],
   "source": [
    "my_set.add(100)\n",
    "my_set\n"
   ]
  },
  {
   "cell_type": "code",
   "execution_count": null,
   "id": "19285243",
   "metadata": {},
   "outputs": [
    {
     "data": {
      "text/plain": [
       "{10, 20, 30, 40, 100}"
      ]
     },
     "execution_count": 49,
     "metadata": {},
     "output_type": "execute_result"
    }
   ],
   "source": [
    "my_set\n",
    "# method discard too remove elements from set\n",
    "my_set.discard(50)\n",
    "my_set"
   ]
  },
  {
   "cell_type": "code",
   "execution_count": 50,
   "id": "dd59d881",
   "metadata": {},
   "outputs": [
    {
     "name": "stdout",
     "output_type": "stream",
     "text": [
      "Update set {'banana', 'pineapple'}\n"
     ]
    }
   ],
   "source": [
    "my_set = {'banana', 'apple', 'pineapple'}\n",
    "\n",
    "item_to_remove = 'apple'\n",
    "\n",
    "my_set.remove(item_to_remove)\n",
    "\n",
    "print('Update set', my_set)"
   ]
  }
 ],
 "metadata": {
  "kernelspec": {
   "display_name": ".venv",
   "language": "python",
   "name": "python3"
  },
  "language_info": {
   "codemirror_mode": {
    "name": "ipython",
    "version": 3
   },
   "file_extension": ".py",
   "mimetype": "text/x-python",
   "name": "python",
   "nbconvert_exporter": "python",
   "pygments_lexer": "ipython3",
   "version": "3.12.4"
  }
 },
 "nbformat": 4,
 "nbformat_minor": 5
}
