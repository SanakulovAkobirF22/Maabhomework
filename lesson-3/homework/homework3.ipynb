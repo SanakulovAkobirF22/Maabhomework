{
 "cells": [
  {
   "cell_type": "markdown",
   "id": "50a0484c",
   "metadata": {},
   "source": [
    "Create and Access List Elements\n",
    "Create a list containing five different fruits and print the third fruit."
   ]
  },
  {
   "cell_type": "code",
   "execution_count": 2,
   "id": "316bc431",
   "metadata": {},
   "outputs": [
    {
     "name": "stdout",
     "output_type": "stream",
     "text": [
      "Anor\n"
     ]
    }
   ],
   "source": [
    "fruits = ['banan', 'Olma', 'Anor','Kiwi', 'Qulupnay']\n",
    "\n",
    "print(fruits[2])"
   ]
  },
  {
   "cell_type": "code",
   "execution_count": 3,
   "id": "2c0a5b3b",
   "metadata": {},
   "outputs": [
    {
     "name": "stdout",
     "output_type": "stream",
     "text": [
      "[1, 3, 5, 7, 9, 2, 4, 6, 8, 10]\n"
     ]
    }
   ],
   "source": [
    "var1 = [1, 3, 5, 7, 9]\n",
    "var2 = [2, 4, 6, 8, 10]\n",
    "\n",
    "var3 = var1 + var2\n",
    "\n",
    "print(var3)"
   ]
  },
  {
   "cell_type": "code",
   "execution_count": 6,
   "id": "7e5eafb9",
   "metadata": {},
   "outputs": [
    {
     "name": "stdout",
     "output_type": "stream",
     "text": [
      "[2, 6, 10]\n"
     ]
    }
   ],
   "source": [
    "nums = [2, 4, 5, 7, 6, 11, 14, 15, 10]\n",
    "\n",
    "first = nums[0]\n",
    "\n",
    "middle = nums[len(nums)//2]\n",
    "last = nums[-1]\n",
    "\n",
    "overall = [first, middle, last]\n",
    "\n",
    "print(overall)\n"
   ]
  },
  {
   "cell_type": "code",
   "execution_count": 7,
   "id": "781eaafc",
   "metadata": {},
   "outputs": [
    {
     "name": "stdout",
     "output_type": "stream",
     "text": [
      "('John Wick', 'Mission imposible', 'Avatar', 'Anna', 'Lucie')\n"
     ]
    }
   ],
   "source": [
    "fav_movies = ['John Wick', 'Mission imposible', 'Avatar', 'Anna', 'Lucie']\n",
    "\n",
    "movie_tuple = tuple(fav_movies)\n",
    "\n",
    "print(movie_tuple)"
   ]
  },
  {
   "cell_type": "code",
   "execution_count": 8,
   "id": "5b586ce3",
   "metadata": {},
   "outputs": [
    {
     "name": "stdout",
     "output_type": "stream",
     "text": [
      "True\n"
     ]
    }
   ],
   "source": [
    "cities = ['London', 'Madrid', 'Paris', 'Stambul', 'Tashkent']\n",
    "\n",
    "print('Paris' in cities)"
   ]
  },
  {
   "cell_type": "code",
   "execution_count": 9,
   "id": "e61a04e4",
   "metadata": {},
   "outputs": [
    {
     "name": "stdout",
     "output_type": "stream",
     "text": [
      "[1, 2, 3, 4, 5, 6, 1, 2, 3, 4, 5, 6]\n"
     ]
    }
   ],
   "source": [
    "numbers = [1, 2, 3, 4, 5, 6]\n",
    "\n",
    "dublicate = numbers * 2\n",
    "\n",
    "print(dublicate)"
   ]
  },
  {
   "cell_type": "code",
   "execution_count": 10,
   "id": "417bc3ed",
   "metadata": {},
   "outputs": [
    {
     "name": "stdout",
     "output_type": "stream",
     "text": [
      "[7, 3, 4, 5, 6, 2]\n"
     ]
    }
   ],
   "source": [
    "num1 = [2, 3, 4, 5, 6, 7]\n",
    "\n",
    "# swap first and last\n",
    "\n",
    "num1[0], num1[-1] = num1[-1], num1[0]\n",
    "\n",
    "print(num1)\n"
   ]
  },
  {
   "cell_type": "code",
   "execution_count": 13,
   "id": "e37066d0",
   "metadata": {},
   "outputs": [
    {
     "name": "stdout",
     "output_type": "stream",
     "text": [
      "(4, 5, 6, 7, 8)\n"
     ]
    }
   ],
   "source": [
    "touple = (1, 2, 3, 4, 5, 6, 7, 8, 9, 10)\n",
    "print(touple[3:8])"
   ]
  },
  {
   "cell_type": "code",
   "execution_count": 14,
   "id": "186a92e7",
   "metadata": {},
   "outputs": [
    {
     "name": "stdout",
     "output_type": "stream",
     "text": [
      "3\n"
     ]
    }
   ],
   "source": [
    "colors = ['red', 'blue', 'white', 'black', 'blue', 'red', 'blue']\n",
    "\n",
    "cnt = colors.count('blue')\n",
    "print(cnt)"
   ]
  },
  {
   "cell_type": "code",
   "execution_count": 20,
   "id": "b778f36c",
   "metadata": {},
   "outputs": [
    {
     "name": "stdout",
     "output_type": "stream",
     "text": [
      "Index of 'lion' : 2\n"
     ]
    }
   ],
   "source": [
    "animals = ('cat', 'dog', 'lion', 'tiger', 'elephant')\n",
    "#Find index of 'lion'\n",
    "\n",
    "index = animals.index('lion')\n",
    "\n",
    "print(\"Index of 'lion' :\", index)"
   ]
  },
  {
   "cell_type": "code",
   "execution_count": null,
   "id": "922d5d3e",
   "metadata": {},
   "outputs": [
    {
     "name": "stdout",
     "output_type": "stream",
     "text": [
      "(1, 2, 3, 4, 5, 5, 7, 8, 9, 10)\n"
     ]
    }
   ],
   "source": [
    "aa = (1, 2, 3, 4, 5)\n",
    "bb = (5, 7, 8, 9, 10)\n",
    "#merge two tuples\n",
    "cc = aa + bb\n",
    "\n",
    "print(cc)"
   ]
  },
  {
   "cell_type": "code",
   "execution_count": null,
   "id": "0f1d269e",
   "metadata": {},
   "outputs": [
    {
     "name": "stdout",
     "output_type": "stream",
     "text": [
      "5\n",
      "3\n"
     ]
    }
   ],
   "source": [
    "xy = [1, 3, 6, 7, 10]\n",
    "xz = (10, 13, 15)\n",
    "#find the lenght of list and tuple\n",
    "print(len(xy))\n",
    "print(len(xz))"
   ]
  },
  {
   "cell_type": "code",
   "execution_count": null,
   "id": "b868ffec",
   "metadata": {},
   "outputs": [
    {
     "name": "stdout",
     "output_type": "stream",
     "text": [
      "[1, 2, 4, 6, 7, 8, 10]\n"
     ]
    }
   ],
   "source": [
    "tn = (1, 2, 4, 6, 7, 8, 10)\n",
    "# convert tuple to lists\n",
    "cnt = list(tn)\n",
    "\n",
    "print(cnt)"
   ]
  },
  {
   "cell_type": "code",
   "execution_count": 27,
   "id": "77e7f543",
   "metadata": {},
   "outputs": [
    {
     "name": "stdout",
     "output_type": "stream",
     "text": [
      "min of cte: 2\n",
      "max of cte: 45\n"
     ]
    }
   ],
   "source": [
    "cte = (2, 5, 7, 10, 13, 32, 45, 39)\n",
    "\n",
    "print('min of cte:', min(cte))\n",
    "print('max of cte:',max(cte))"
   ]
  },
  {
   "cell_type": "code",
   "execution_count": null,
   "id": "04a53b06",
   "metadata": {},
   "outputs": [
    {
     "name": "stdout",
     "output_type": "stream",
     "text": [
      "(10, 9, 7, 5, 3, 1)\n"
     ]
    }
   ],
   "source": [
    "ctn = (1, 3, 5, 7, 9, 10)\n",
    "# reverse a tuple\n",
    "print(ctn[::-1])"
   ]
  }
 ],
 "metadata": {
  "kernelspec": {
   "display_name": ".venv",
   "language": "python",
   "name": "python3"
  },
  "language_info": {
   "codemirror_mode": {
    "name": "ipython",
    "version": 3
   },
   "file_extension": ".py",
   "mimetype": "text/x-python",
   "name": "python",
   "nbconvert_exporter": "python",
   "pygments_lexer": "ipython3",
   "version": "3.12.4"
  }
 },
 "nbformat": 4,
 "nbformat_minor": 5
}
