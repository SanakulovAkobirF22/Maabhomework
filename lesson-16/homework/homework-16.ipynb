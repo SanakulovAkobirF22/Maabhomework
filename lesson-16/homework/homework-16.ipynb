{
 "cells": [
  {
   "cell_type": "code",
   "execution_count": 1,
   "id": "5a46c5b0",
   "metadata": {},
   "outputs": [],
   "source": [
    "import numpy as np\n",
    "\n"
   ]
  },
  {
   "cell_type": "code",
   "execution_count": 17,
   "id": "79798887",
   "metadata": {},
   "outputs": [
    {
     "name": "stdout",
     "output_type": "stream",
     "text": [
      "[ 12.23  13.32 100.    36.32]\n"
     ]
    }
   ],
   "source": [
    "a = [12.23, 13.32, 100, 36.32]\n",
    "\n",
    "arr = np.array(a)\n",
    "print(arr)"
   ]
  },
  {
   "cell_type": "code",
   "execution_count": 16,
   "id": "dca3bf4e",
   "metadata": {},
   "outputs": [
    {
     "name": "stdout",
     "output_type": "stream",
     "text": [
      "[[ 2  3  4]\n",
      " [ 5  6  7]\n",
      " [ 8  9 10]]\n"
     ]
    }
   ],
   "source": [
    "arr1 = np.arange(2, 11).reshape(3, 3)\n",
    "print(arr1)"
   ]
  },
  {
   "cell_type": "code",
   "execution_count": 15,
   "id": "014f4263",
   "metadata": {},
   "outputs": [
    {
     "name": "stdout",
     "output_type": "stream",
     "text": [
      "[ 0.  0.  0.  0.  0. 11.  0.  0.  0.  0.]\n"
     ]
    }
   ],
   "source": [
    "arr2 = np.zeros(10)\n",
    "arr2[5] = 11\n",
    "print(arr2)"
   ]
  },
  {
   "cell_type": "code",
   "execution_count": 14,
   "id": "c9526800",
   "metadata": {},
   "outputs": [
    {
     "name": "stdout",
     "output_type": "stream",
     "text": [
      "[12 13 14 15 16 17 18 19 20 21 22 23 24 25 26 27 28 29 30 31 32 33 34 35\n",
      " 36 37]\n"
     ]
    }
   ],
   "source": [
    "arr3 = np.arange(12, 38)\n",
    "print(arr3)"
   ]
  },
  {
   "cell_type": "code",
   "execution_count": 10,
   "id": "ddfe4e3a",
   "metadata": {},
   "outputs": [
    {
     "data": {
      "text/plain": [
       "array([1., 2., 3., 4.])"
      ]
     },
     "execution_count": 10,
     "metadata": {},
     "output_type": "execute_result"
    }
   ],
   "source": [
    "arr5 = np.arange(1, 5)\n",
    "\n",
    "float_arr5 = arr5.astype(float)\n",
    "float_arr5"
   ]
  },
  {
   "cell_type": "code",
   "execution_count": 11,
   "id": "195182c8",
   "metadata": {},
   "outputs": [
    {
     "name": "stdout",
     "output_type": "stream",
     "text": [
      "--- Centigrade to Fahrenheit Conversion ---\n",
      "Original Centigrade values: [ 0.   12.   45.21 34.   99.91]\n",
      "Values in Fahrenheit degrees: [ 32.     53.6   113.378  93.2   211.838]\n",
      "\n",
      "--- Fahrenheit to Centigrade Conversion ---\n",
      "Original Fahrenheit values: [ 0.   12.   45.21 34.   99.91 32.  ]\n",
      "Values in Centigrade degrees: [-17.78 -11.11   7.34   1.11  37.73   0.  ]\n"
     ]
    }
   ],
   "source": [
    "def celsius_to_fahrenheit(celsius_values):\n",
    "    celsius_array = np.array(celsius_values, dtype = float)\n",
    "    fahrenheit_array = celsius_array * (9/5) + 32\n",
    "    return fahrenheit_array\n",
    "\n",
    "def fahrenheit_to_celsius(fahrenheit_values):\n",
    "    fahrenheit_array = np.array(fahrenheit_values, dtype=float)\n",
    "    celsius_array = (fahrenheit_array - 32)* (5/9)\n",
    "    return celsius_array\n",
    "\n",
    "centigrade_input_1 = np.array([0, 12, 45.21, 34, 99.91])\n",
    "print(\"--- Centigrade to Fahrenheit Conversion ---\")\n",
    "print(f\"Original Centigrade values: {centigrade_input_1}\")\n",
    "fahrenheit_output_1 = celsius_to_fahrenheit(centigrade_input_1)\n",
    "print(f\"Values in Fahrenheit degrees: {fahrenheit_output_1}\\n\")\n",
    "fahrenheit_input_2 = np.array([0., 12., 45.21, 34., 99.91, 32.])\n",
    "\n",
    "print(\"--- Fahrenheit to Centigrade Conversion ---\")\n",
    "print(f\"Original Fahrenheit values: {fahrenheit_input_2}\")\n",
    "\n",
    "centigrade_output_2 = fahrenheit_to_celsius(fahrenheit_input_2)\n",
    "# Rounding to two decimal places to match the sample output's precision\n",
    "print(f\"Values in Centigrade degrees: {np.round(centigrade_output_2, 2)}\")\n",
    "\n",
    "\n",
    "\n",
    "\n",
    "\n",
    "    "
   ]
  },
  {
   "cell_type": "code",
   "execution_count": 13,
   "id": "72551e94",
   "metadata": {},
   "outputs": [
    {
     "name": "stdout",
     "output_type": "stream",
     "text": [
      "Original array: \n",
      "[10 20 30]\n",
      "\n",
      "After append values to the end of the array: \n",
      "[10 20 30 40 50 60 70 80 90]\n"
     ]
    }
   ],
   "source": [
    "original_array = np.array([10, 20, 30])\n",
    "print(\"Original array: \")\n",
    "print(original_array)\n",
    "\n",
    "#Values to append\n",
    "\n",
    "values_to_append = np.array([40, 50, 60, 70, 80, 90])\n",
    "\n",
    "appended_array = np.append(original_array, values_to_append)\n",
    "\n",
    "print(\"\\nAfter append values to the end of the array: \")\n",
    "\n",
    "print(appended_array)"
   ]
  },
  {
   "cell_type": "code",
   "execution_count": 21,
   "id": "8ab6f998",
   "metadata": {},
   "outputs": [
    {
     "name": "stdout",
     "output_type": "stream",
     "text": [
      "mean of array 61\n",
      "meadian of array 62.0\n",
      "Standart Deviation:  23.562682360037027\n"
     ]
    }
   ],
   "source": [
    "import statistics\n",
    "import random\n",
    "statis_arr = np.random.randint(1, 100, size = 10)\n",
    "statis_arr\n",
    "\n",
    "mean_statis_arr = statistics.mean(statis_arr)\n",
    "print(f\"mean of array {mean_statis_arr}\")\n",
    "\n",
    "median_statis_arr = statistics.median(statis_arr)\n",
    "\n",
    "print(f'meadian of array {median_statis_arr}')\n",
    "\n",
    "std_statis_arr = np.std(statis_arr)\n",
    "\n",
    "print(f\"Standart Deviation: \", std_statis_arr)\n",
    "\n",
    "\n"
   ]
  },
  {
   "cell_type": "code",
   "execution_count": 27,
   "id": "f10682e8",
   "metadata": {},
   "outputs": [
    {
     "name": "stdout",
     "output_type": "stream",
     "text": [
      "max value 990\n",
      "min value 8\n"
     ]
    }
   ],
   "source": [
    "new_arr = np.random.randint(1, 1000, size = (10, 10))\n",
    "\n",
    "new_arr\n",
    "\n",
    "max_new_arr = np.amax(new_arr)\n",
    "print(f\"max value {max_new_arr}\")\n",
    "min_new_arr = np.amin(new_arr)\n",
    "\n",
    "print(f\"min value {min_new_arr}\")"
   ]
  },
  {
   "cell_type": "code",
   "execution_count": 29,
   "id": "268ed7fd",
   "metadata": {},
   "outputs": [
    {
     "name": "stdout",
     "output_type": "stream",
     "text": [
      "[[[309 553 110]\n",
      "  [119  69 959]\n",
      "  [272 818 855]]\n",
      "\n",
      " [[361 857 671]\n",
      "  [588 654 369]\n",
      "  [437 929 259]]\n",
      "\n",
      " [[607 742 713]\n",
      "  [546 151 340]\n",
      "  [403  15  62]]]\n"
     ]
    }
   ],
   "source": [
    "random_arr = np.random.randint(1, 1000, size = (3, 3, 3))\n",
    "print(random_arr)"
   ]
  },
  {
   "cell_type": "code",
   "execution_count": null,
   "id": "175bf17b",
   "metadata": {},
   "outputs": [],
   "source": []
  }
 ],
 "metadata": {
  "kernelspec": {
   "display_name": "Python 3",
   "language": "python",
   "name": "python3"
  },
  "language_info": {
   "codemirror_mode": {
    "name": "ipython",
    "version": 3
   },
   "file_extension": ".py",
   "mimetype": "text/x-python",
   "name": "python",
   "nbconvert_exporter": "python",
   "pygments_lexer": "ipython3",
   "version": "3.12.4"
  }
 },
 "nbformat": 4,
 "nbformat_minor": 5
}
