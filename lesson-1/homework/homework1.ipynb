{
 "cells": [
  {
   "cell_type": "markdown",
   "id": "bc27b7e3",
   "metadata": {},
   "source": [
    "<!-- Given a side of square. Find its perimeter and area.\n",
    "Given diameter of circle. Find its length.\n",
    "Given two numbers a and b. Find their mean.\n",
    "Given two numbers a and b. Find their sum, product and square of each number. -->"
   ]
  },
  {
   "cell_type": "code",
   "execution_count": null,
   "id": "3a063389",
   "metadata": {},
   "outputs": [
    {
     "name": "stdout",
     "output_type": "stream",
     "text": [
      "Perimeter of square is:20, Area of square is 25\n"
     ]
    }
   ],
   "source": [
    "a = int(input())\n",
    "P = 4*a\n",
    "S = a*a\n",
    "print('Perimeter of square is: {}, Area of square is {}'.format(P, S))\n"
   ]
  },
  {
   "cell_type": "code",
   "execution_count": 6,
   "id": "dc7eb863",
   "metadata": {},
   "outputs": [
    {
     "name": "stdout",
     "output_type": "stream",
     "text": [
      "Lenght of circle is 31.400000000000002 \n"
     ]
    }
   ],
   "source": [
    "import math\n",
    "d = int(input())\n",
    "\n",
    "L = 3.14*d\n",
    "\n",
    "print('Lenght of circle is {} '.format(L))"
   ]
  },
  {
   "cell_type": "code",
   "execution_count": 8,
   "id": "3954b7dd",
   "metadata": {},
   "outputs": [
    {
     "name": "stdout",
     "output_type": "stream",
     "text": [
      "Mean of a and b is 4.0\n"
     ]
    }
   ],
   "source": [
    "a = int(input())\n",
    "b = int(input())\n",
    "\n",
    "s = (a+b)/2\n",
    "\n",
    "print('Mean of a and b is {}'.format(s))"
   ]
  },
  {
   "cell_type": "code",
   "execution_count": 5,
   "id": "76278582",
   "metadata": {},
   "outputs": [
    {
     "name": "stdout",
     "output_type": "stream",
     "text": [
      "40 100\n"
     ]
    }
   ],
   "source": [
    "a = 10\n",
    "\n",
    "p = 4*a\n",
    "s = a*a\n",
    "\n",
    "print(p, s)"
   ]
  },
  {
   "cell_type": "code",
   "execution_count": 9,
   "id": "f88c39d3",
   "metadata": {},
   "outputs": [
    {
     "name": "stdout",
     "output_type": "stream",
     "text": [
      "Sum of x and y is 11, square of x is 16, square of y is 49\n"
     ]
    }
   ],
   "source": [
    "x = int(input())\n",
    "y = int(input())\n",
    "\n",
    "s = x + y\n",
    "\n",
    "X = x*x\n",
    "Y = y*y\n",
    "\n",
    "print('Sum of x and y is {}, square of x is {}, square of y is {}'.format(s, X, Y))"
   ]
  }
 ],
 "metadata": {
  "kernelspec": {
   "display_name": ".venv",
   "language": "python",
   "name": "python3"
  },
  "language_info": {
   "codemirror_mode": {
    "name": "ipython",
    "version": 3
   },
   "file_extension": ".py",
   "mimetype": "text/x-python",
   "name": "python",
   "nbconvert_exporter": "python",
   "pygments_lexer": "ipython3",
   "version": "3.12.4"
  }
 },
 "nbformat": 4,
 "nbformat_minor": 5
}
