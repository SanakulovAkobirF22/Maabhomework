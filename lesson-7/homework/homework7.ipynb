{
 "cells": [
  {
   "cell_type": "markdown",
   "id": "e4f0a92e",
   "metadata": {},
   "source": [
    "ask\n",
    "Learn about map and filter functions, and be prepared to explain them in class. Provide examples using these functions with lambda expressions.\n",
    "\n",
    "Problems\n",
    "1. is_prime(n) funksiyasi\n",
    "is_prime(n) funksiyasini hosil qiling (n > 0). Agar n soni tub bo'lsa True, aks holda False qiymat qaytarsin.\n",
    "\n",
    "Misollar:\n",
    "Kiritish:\n",
    "4\n",
    "Natija:\n",
    "False\n",
    "(Izoh: 4 soni tub emas, chunki u 2 ga bo'linadi.)\n",
    "\n",
    "Kiritish:\n",
    "7\n",
    "Natija:\n",
    "True\n",
    "(Izoh: 7 soni faqat 1 va o'ziga bo'linadi, ya'ni tub son.)\n",
    "\n",
    "2. digit_sum(k) funksiyasi\n",
    "digit_sum(k) funksiyasini yozing, u k sonining raqamlari yig'indisini hisoblaydi.\n",
    "\n",
    "Misollar:\n",
    "Kiritish:\n",
    "24\n",
    "Natija:\n",
    "6\n",
    "(Izoh: 24 sonining raqamlari yig'indisi: 2 + 4 = 6.)\n",
    "\n",
    "Kiritish:\n",
    "502\n",
    "Natija:\n",
    "7\n",
    "(Izoh: 502 sonining raqamlari yig'indisi: 5 + 0 + 2 = 7.)\n",
    "\n",
    "3. Ikki sonning darajalari\n",
    "Berilgan N sonidan oshmaydigan barcha 2 ning darajalarini (ya'ni, 2**k shaklidagi sonlarni) chop etuvchi funksiyani yozing.\n",
    "\n",
    "Misol:\n",
    "Kiritish:\n",
    "10\n",
    "Natija:\n",
    "2 4 8\n",
    "(Izoh: 10 dan kichik yoki teng bo'lgan 2 ning darajalari: 2, 4, 8.)"
   ]
  },
  {
   "cell_type": "code",
   "execution_count": 14,
   "id": "95ca5c1b",
   "metadata": {},
   "outputs": [],
   "source": [
    "def is_prime(n):\n",
    "    \"\"\"n > 0 katta bo`lganda sonni tub ekanligigii aniqlovchi funksiya\"\"\"\n",
    "    if n <= 1:\n",
    "       return False\n",
    "    for i in range(2, int(n**0.5) + 1):\n",
    "        if n % i == 0:\n",
    "            return False\n",
    "    return True\n",
    "\n"
   ]
  },
  {
   "cell_type": "code",
   "execution_count": 15,
   "id": "42bea448",
   "metadata": {},
   "outputs": [
    {
     "data": {
      "text/plain": [
       "True"
      ]
     },
     "execution_count": 15,
     "metadata": {},
     "output_type": "execute_result"
    }
   ],
   "source": [
    "is_prime(11)"
   ]
  },
  {
   "cell_type": "code",
   "execution_count": 16,
   "id": "ed124b9b",
   "metadata": {},
   "outputs": [
    {
     "data": {
      "text/plain": [
       "False"
      ]
     },
     "execution_count": 16,
     "metadata": {},
     "output_type": "execute_result"
    }
   ],
   "source": [
    "is_prime(12)"
   ]
  },
  {
   "cell_type": "code",
   "execution_count": 21,
   "id": "e8739bd6",
   "metadata": {},
   "outputs": [],
   "source": [
    "def digit_sum(n):\n",
    "    \"\"\"Berilgan sonning raqamlarining yig`indisin topuvchi funksiya\"\"\"\n",
    "    summ = 0\n",
    "    while n > 0:\n",
    "        digit = n % 10\n",
    "        summ += digit\n",
    "        n //= 10\n",
    "    return summ\n"
   ]
  },
  {
   "cell_type": "code",
   "execution_count": 22,
   "id": "f4c5e1b5",
   "metadata": {},
   "outputs": [
    {
     "data": {
      "text/plain": [
       "8"
      ]
     },
     "execution_count": 22,
     "metadata": {},
     "output_type": "execute_result"
    }
   ],
   "source": [
    "digit_sum(701)"
   ]
  },
  {
   "cell_type": "code",
   "execution_count": 28,
   "id": "c0a7039a",
   "metadata": {},
   "outputs": [],
   "source": [
    "def power_two(k):\n",
    "    return[2**i for i in range(1, k+1) if 2**i <= k]"
   ]
  },
  {
   "cell_type": "code",
   "execution_count": 29,
   "id": "2d4a78bf",
   "metadata": {},
   "outputs": [
    {
     "data": {
      "text/plain": [
       "[2, 4, 8, 16, 32]"
      ]
     },
     "execution_count": 29,
     "metadata": {},
     "output_type": "execute_result"
    }
   ],
   "source": [
    "power_two(33)"
   ]
  }
 ],
 "metadata": {
  "kernelspec": {
   "display_name": "Python 3",
   "language": "python",
   "name": "python3"
  },
  "language_info": {
   "codemirror_mode": {
    "name": "ipython",
    "version": 3
   },
   "file_extension": ".py",
   "mimetype": "text/x-python",
   "name": "python",
   "nbconvert_exporter": "python",
   "pygments_lexer": "ipython3",
   "version": "3.12.4"
  }
 },
 "nbformat": 4,
 "nbformat_minor": 5
}
