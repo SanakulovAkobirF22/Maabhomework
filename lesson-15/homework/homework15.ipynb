{
 "cells": [
  {
   "cell_type": "code",
   "execution_count": 2,
   "id": "35082d36",
   "metadata": {},
   "outputs": [],
   "source": [
    "import sqlite3"
   ]
  },
  {
   "cell_type": "code",
   "execution_count": 7,
   "id": "43ef4b8d",
   "metadata": {},
   "outputs": [],
   "source": [
    "with sqlite3.connect('test2.db') as conn:\n",
    "    cursor = conn.cursor()\n",
    "    cursor.execute('DROP table if exists Roster')\n",
    "    create = 'create table Roster (Name text, Species text, Age int)'\n",
    "    result = cursor.execute(create)\n",
    "\n",
    "    insert = \"\"\"insert into Roster values\n",
    "    ('Benjamin Sisko',\t'Human', 40),\n",
    "    ('Jadzia Dax',\t'Trill', 300),\n",
    "    ('Kira Nerys',\t'Bajoran',\t29)\"\"\"\n",
    "    cursor.execute(insert)\n",
    "    \n",
    "    \n"
   ]
  },
  {
   "cell_type": "code",
   "execution_count": 5,
   "id": "44e1845e",
   "metadata": {},
   "outputs": [],
   "source": [
    "with sqlite3.connect('test2.db') as conn:\n",
    "    cursor = conn.cursor()\n",
    "    cursor.execute(\"\"\"update Roster \n",
    "                   set Name = 'Erzi Dax' \n",
    "                   where Age = 300\"\"\")\n",
    "    conn.commit()\n",
    "    \n",
    "                "
   ]
  },
  {
   "cell_type": "code",
   "execution_count": 6,
   "id": "97a6cf1e",
   "metadata": {},
   "outputs": [
    {
     "name": "stdout",
     "output_type": "stream",
     "text": [
      "Name: Kira Nerys, Age: 29 \n"
     ]
    }
   ],
   "source": [
    "with sqlite3.connect('test2.db') as conn:\n",
    "    cursor = conn.cursor()\n",
    "    cursor.execute(\"\"\"\n",
    "            select Name, Age from Roster\n",
    "                   where Species = 'Bajoran'\n",
    "\"\"\")\n",
    "\n",
    "rows = cursor.fetchall()\n",
    "\n",
    "for row in rows:\n",
    "    print(f\"Name: {row[0]}, Age: {row[1]} \")\n",
    "\n",
    "conn.close()\n"
   ]
  },
  {
   "cell_type": "code",
   "execution_count": null,
   "id": "57efb01e",
   "metadata": {},
   "outputs": [],
   "source": []
  },
  {
   "cell_type": "code",
   "execution_count": null,
   "id": "7e4106bd",
   "metadata": {},
   "outputs": [],
   "source": []
  },
  {
   "cell_type": "code",
   "execution_count": null,
   "id": "36c3c5ed",
   "metadata": {},
   "outputs": [
    {
     "data": {
      "text/plain": [
       "[]"
      ]
     },
     "execution_count": 28,
     "metadata": {},
     "output_type": "execute_result"
    }
   ],
   "source": []
  },
  {
   "cell_type": "code",
   "execution_count": null,
   "id": "b7aaae0d",
   "metadata": {},
   "outputs": [],
   "source": [
    "   "
   ]
  }
 ],
 "metadata": {
  "kernelspec": {
   "display_name": "Python 3",
   "language": "python",
   "name": "python3"
  },
  "language_info": {
   "codemirror_mode": {
    "name": "ipython",
    "version": 3
   },
   "file_extension": ".py",
   "mimetype": "text/x-python",
   "name": "python",
   "nbconvert_exporter": "python",
   "pygments_lexer": "ipython3",
   "version": "3.12.4"
  }
 },
 "nbformat": 4,
 "nbformat_minor": 5
}
